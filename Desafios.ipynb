{
 "cells": [
  {
   "cell_type": "code",
   "execution_count": 12,
   "metadata": {},
   "outputs": [
    {
     "output_type": "execute_result",
     "data": {
      "text/plain": "      filmeId                                        titulo  \\\n816      1076                         Innocents, The (1961)   \n2211     2939                                Niagara (1953)   \n2499     3338                        For All Mankind (1989)   \n2587     3456  Color of Paradise, The (Rang-e khoda) (1999)   \n3118     4194                I Know Where I'm Going! (1945)   \n4037     5721                            Chosen, The (1981)   \n4506     6668   Road Home, The (Wo de fu qin mu qin) (1999)   \n4598     6849                                Scrooge (1970)   \n4704     7020                                  Proof (1991)   \n5020     7792                     Parallax View, The (1974)   \n5293     8765                      This Gun for Hire (1942)   \n5421    25855                  Roaring Twenties, The (1939)   \n5452    26085                   Mutiny on the Bounty (1962)   \n5749    30892            In the Realms of the Unreal (2004)   \n5824    32160                      Twentieth Century (1934)   \n5837    32371                     Call Northside 777 (1948)   \n5957    34482                  Browning Version, The (1951)   \n7565    85565                            Chalet Girl (2011)   \n\n                       generos  nota  \n816      Drama|Horror|Thriller   NaN  \n2211            Drama|Thriller   NaN  \n2499               Documentary   NaN  \n2587                     Drama   NaN  \n3118         Drama|Romance|War   NaN  \n4037                     Drama   NaN  \n4506             Drama|Romance   NaN  \n4598     Drama|Fantasy|Musical   NaN  \n4704      Comedy|Drama|Romance   NaN  \n5020                  Thriller   NaN  \n5293  Crime|Film-Noir|Thriller   NaN  \n5421      Crime|Drama|Thriller   NaN  \n5452   Adventure|Drama|Romance   NaN  \n5749     Animation|Documentary   NaN  \n5824                    Comedy   NaN  \n5837     Crime|Drama|Film-Noir   NaN  \n5957                     Drama   NaN  \n7565            Comedy|Romance   NaN  ",
      "text/html": "<div>\n<style scoped>\n    .dataframe tbody tr th:only-of-type {\n        vertical-align: middle;\n    }\n\n    .dataframe tbody tr th {\n        vertical-align: top;\n    }\n\n    .dataframe thead th {\n        text-align: right;\n    }\n</style>\n<table border=\"1\" class=\"dataframe\">\n  <thead>\n    <tr style=\"text-align: right;\">\n      <th></th>\n      <th>filmeId</th>\n      <th>titulo</th>\n      <th>generos</th>\n      <th>nota</th>\n    </tr>\n  </thead>\n  <tbody>\n    <tr>\n      <th>816</th>\n      <td>1076</td>\n      <td>Innocents, The (1961)</td>\n      <td>Drama|Horror|Thriller</td>\n      <td>NaN</td>\n    </tr>\n    <tr>\n      <th>2211</th>\n      <td>2939</td>\n      <td>Niagara (1953)</td>\n      <td>Drama|Thriller</td>\n      <td>NaN</td>\n    </tr>\n    <tr>\n      <th>2499</th>\n      <td>3338</td>\n      <td>For All Mankind (1989)</td>\n      <td>Documentary</td>\n      <td>NaN</td>\n    </tr>\n    <tr>\n      <th>2587</th>\n      <td>3456</td>\n      <td>Color of Paradise, The (Rang-e khoda) (1999)</td>\n      <td>Drama</td>\n      <td>NaN</td>\n    </tr>\n    <tr>\n      <th>3118</th>\n      <td>4194</td>\n      <td>I Know Where I'm Going! (1945)</td>\n      <td>Drama|Romance|War</td>\n      <td>NaN</td>\n    </tr>\n    <tr>\n      <th>4037</th>\n      <td>5721</td>\n      <td>Chosen, The (1981)</td>\n      <td>Drama</td>\n      <td>NaN</td>\n    </tr>\n    <tr>\n      <th>4506</th>\n      <td>6668</td>\n      <td>Road Home, The (Wo de fu qin mu qin) (1999)</td>\n      <td>Drama|Romance</td>\n      <td>NaN</td>\n    </tr>\n    <tr>\n      <th>4598</th>\n      <td>6849</td>\n      <td>Scrooge (1970)</td>\n      <td>Drama|Fantasy|Musical</td>\n      <td>NaN</td>\n    </tr>\n    <tr>\n      <th>4704</th>\n      <td>7020</td>\n      <td>Proof (1991)</td>\n      <td>Comedy|Drama|Romance</td>\n      <td>NaN</td>\n    </tr>\n    <tr>\n      <th>5020</th>\n      <td>7792</td>\n      <td>Parallax View, The (1974)</td>\n      <td>Thriller</td>\n      <td>NaN</td>\n    </tr>\n    <tr>\n      <th>5293</th>\n      <td>8765</td>\n      <td>This Gun for Hire (1942)</td>\n      <td>Crime|Film-Noir|Thriller</td>\n      <td>NaN</td>\n    </tr>\n    <tr>\n      <th>5421</th>\n      <td>25855</td>\n      <td>Roaring Twenties, The (1939)</td>\n      <td>Crime|Drama|Thriller</td>\n      <td>NaN</td>\n    </tr>\n    <tr>\n      <th>5452</th>\n      <td>26085</td>\n      <td>Mutiny on the Bounty (1962)</td>\n      <td>Adventure|Drama|Romance</td>\n      <td>NaN</td>\n    </tr>\n    <tr>\n      <th>5749</th>\n      <td>30892</td>\n      <td>In the Realms of the Unreal (2004)</td>\n      <td>Animation|Documentary</td>\n      <td>NaN</td>\n    </tr>\n    <tr>\n      <th>5824</th>\n      <td>32160</td>\n      <td>Twentieth Century (1934)</td>\n      <td>Comedy</td>\n      <td>NaN</td>\n    </tr>\n    <tr>\n      <th>5837</th>\n      <td>32371</td>\n      <td>Call Northside 777 (1948)</td>\n      <td>Crime|Drama|Film-Noir</td>\n      <td>NaN</td>\n    </tr>\n    <tr>\n      <th>5957</th>\n      <td>34482</td>\n      <td>Browning Version, The (1951)</td>\n      <td>Drama</td>\n      <td>NaN</td>\n    </tr>\n    <tr>\n      <th>7565</th>\n      <td>85565</td>\n      <td>Chalet Girl (2011)</td>\n      <td>Comedy|Romance</td>\n      <td>NaN</td>\n    </tr>\n  </tbody>\n</table>\n</div>"
     },
     "metadata": {},
     "execution_count": 12
    }
   ],
   "source": [
    "#Desafios 01\n",
    "import pandas as pd\n",
    "import matplotlib.pyplot as plt\n",
    "filmes = pd.read_csv('/home/cr4zyd0g/Documentos/quarentena_dados/ml-latest-small/movies.csv')\n",
    "filmes.columns = ['filmeId', 'titulo', 'generos']\n",
    "avaliacoes = pd.read_csv('/home/cr4zyd0g/Documentos/quarentena_dados/ml-latest-small/ratings.csv')\n",
    "avaliacoes.columns = ['usuarioId', 'filmeId', 'nota', 'momento']\n",
    "avaliacoes = pd.read_csv('/home/cr4zyd0g/Documentos/quarentena_dados/ml-latest-small/ratings.csv')\n",
    "avaliacoes.columns = ['usuarioId', 'filmeId', 'nota', 'momento']\n",
    "nota_media_por_filme = avaliacoes.groupby(\"filmeId\")[\"nota\"].mean()\n",
    "filmes_com_media = filmes.join(nota_media_por_filme, on=\"filmeId\")\n",
    "#Resposta\n",
    "#filmes_com_avaliacao = filmes_com_media['nota'].isnull().value_counts()\n",
    "filmes_com_avaliacao = filmes_com_media\n",
    "filmes_sem_avaliacao = filmes_com_avaliacao['nota'].isnull()\n",
    "filmes_com_avaliacao[filmes_sem_avaliacao]"
   ]
  },
  {
   "cell_type": "code",
   "execution_count": 37,
   "metadata": {},
   "outputs": [
    {
     "output_type": "execute_result",
     "data": {
      "text/plain": "   filmeId                              titulo  \\\n0        1                    Toy Story (1995)   \n1        2                      Jumanji (1995)   \n2        3             Grumpier Old Men (1995)   \n3        4            Waiting to Exhale (1995)   \n4        5  Father of the Bride Part II (1995)   \n5        6                         Heat (1995)   \n6        7                      Sabrina (1995)   \n7        8                 Tom and Huck (1995)   \n8        9                 Sudden Death (1995)   \n9       10                    GoldenEye (1995)   \n\n                                       generos     Média  Total de Votos  \n0  Adventure|Animation|Children|Comedy|Fantasy  3.920930             215  \n1                   Adventure|Children|Fantasy  3.431818             110  \n2                               Comedy|Romance  3.259615              52  \n3                         Comedy|Drama|Romance  2.357143               7  \n4                                       Comedy  3.071429              49  \n5                        Action|Crime|Thriller  3.946078             102  \n6                               Comedy|Romance  3.185185              54  \n7                           Adventure|Children  2.875000               8  \n8                                       Action  3.125000              16  \n9                    Action|Adventure|Thriller  3.496212             132  ",
      "text/html": "<div>\n<style scoped>\n    .dataframe tbody tr th:only-of-type {\n        vertical-align: middle;\n    }\n\n    .dataframe tbody tr th {\n        vertical-align: top;\n    }\n\n    .dataframe thead th {\n        text-align: right;\n    }\n</style>\n<table border=\"1\" class=\"dataframe\">\n  <thead>\n    <tr style=\"text-align: right;\">\n      <th></th>\n      <th>filmeId</th>\n      <th>titulo</th>\n      <th>generos</th>\n      <th>Média</th>\n      <th>Total de Votos</th>\n    </tr>\n  </thead>\n  <tbody>\n    <tr>\n      <th>0</th>\n      <td>1</td>\n      <td>Toy Story (1995)</td>\n      <td>Adventure|Animation|Children|Comedy|Fantasy</td>\n      <td>3.920930</td>\n      <td>215</td>\n    </tr>\n    <tr>\n      <th>1</th>\n      <td>2</td>\n      <td>Jumanji (1995)</td>\n      <td>Adventure|Children|Fantasy</td>\n      <td>3.431818</td>\n      <td>110</td>\n    </tr>\n    <tr>\n      <th>2</th>\n      <td>3</td>\n      <td>Grumpier Old Men (1995)</td>\n      <td>Comedy|Romance</td>\n      <td>3.259615</td>\n      <td>52</td>\n    </tr>\n    <tr>\n      <th>3</th>\n      <td>4</td>\n      <td>Waiting to Exhale (1995)</td>\n      <td>Comedy|Drama|Romance</td>\n      <td>2.357143</td>\n      <td>7</td>\n    </tr>\n    <tr>\n      <th>4</th>\n      <td>5</td>\n      <td>Father of the Bride Part II (1995)</td>\n      <td>Comedy</td>\n      <td>3.071429</td>\n      <td>49</td>\n    </tr>\n    <tr>\n      <th>5</th>\n      <td>6</td>\n      <td>Heat (1995)</td>\n      <td>Action|Crime|Thriller</td>\n      <td>3.946078</td>\n      <td>102</td>\n    </tr>\n    <tr>\n      <th>6</th>\n      <td>7</td>\n      <td>Sabrina (1995)</td>\n      <td>Comedy|Romance</td>\n      <td>3.185185</td>\n      <td>54</td>\n    </tr>\n    <tr>\n      <th>7</th>\n      <td>8</td>\n      <td>Tom and Huck (1995)</td>\n      <td>Adventure|Children</td>\n      <td>2.875000</td>\n      <td>8</td>\n    </tr>\n    <tr>\n      <th>8</th>\n      <td>9</td>\n      <td>Sudden Death (1995)</td>\n      <td>Action</td>\n      <td>3.125000</td>\n      <td>16</td>\n    </tr>\n    <tr>\n      <th>9</th>\n      <td>10</td>\n      <td>GoldenEye (1995)</td>\n      <td>Action|Adventure|Thriller</td>\n      <td>3.496212</td>\n      <td>132</td>\n    </tr>\n  </tbody>\n</table>\n</div>"
     },
     "metadata": {},
     "execution_count": 37
    }
   ],
   "source": [
    "#Desafio 2\n",
    "import pandas as pd\n",
    "import matplotlib.pyplot as plt\n",
    "filmes = pd.read_csv('/home/cr4zyd0g/Documentos/quarentena_dados/ml-latest-small/movies.csv')\n",
    "filmes.columns = ['filmeId', 'titulo', 'generos']\n",
    "avaliacoes = pd.read_csv('/home/cr4zyd0g/Documentos/quarentena_dados/ml-latest-small/ratings.csv')\n",
    "avaliacoes.columns = ['usuarioId', 'filmeId', 'nota', 'momento']\n",
    "nota_media_por_filme = avaliacoes.groupby(\"filmeId\")[\"nota\"].mean()\n",
    "filmes_com_media = filmes.join(nota_media_por_filme, on=\"filmeId\")\n",
    "#Resposta\n",
    "total_notas = avaliacoes.groupby('filmeId')['nota'].count()\n",
    "total_notas.head(10)\n",
    "filmes_com_media_e_total = filmes_com_media.merge(total_notas, on='filmeId')\n",
    "filmes_com_media_e_total.rename(columns={'nota_x': 'Média'}, inplace=True)\n",
    "filmes_com_media_e_total.rename(columns={'nota_y': 'Total de Votos'}, inplace=True)\n",
    "filmes_com_media_e_total.head(10)"
   ]
  },
  {
   "cell_type": "code",
   "execution_count": null,
   "metadata": {},
   "outputs": [],
   "source": []
  }
 ],
 "metadata": {
  "language_info": {
   "codemirror_mode": {
    "name": "ipython",
    "version": 3
   },
   "file_extension": ".py",
   "mimetype": "text/x-python",
   "name": "python",
   "nbconvert_exporter": "python",
   "pygments_lexer": "ipython3",
   "version": "3.8.2-final"
  },
  "orig_nbformat": 2,
  "kernelspec": {
   "name": "python38264bit5e26619293344efbb478190fb2569005",
   "display_name": "Python 3.8.2 64-bit"
  }
 },
 "nbformat": 4,
 "nbformat_minor": 2
}