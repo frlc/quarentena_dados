{
 "cells": [
  {
   "cell_type": "code",
   "execution_count": null,
   "metadata": {},
   "outputs": [],
   "source": [
    "import pandas as pd\n",
    "import matplotlib.pyplot as plt\n",
    "filmes = pd.read_csv('/home/cr4zyd0g/Documentos/quarentena_dados/ml-latest-small/movies.csv')\n",
    "filmes.columns = ['filmeId', 'titulo', 'generos']\n",
    "avaliacoes = pd.read_csv('/home/cr4zyd0g/Documentos/quarentena_dados/ml-latest-small/ratings.csv')\n",
    "avaliacoes.columns = ['usuarioId', 'filmeId', 'nota', 'momento']\n",
    "avaliacoes = pd.read_csv('/home/cr4zyd0g/Documentos/quarentena_dados/ml-latest-small/ratings.csv')\n",
    "avaliacoes.columns = ['usuarioId', 'filmeId', 'nota', 'momento']\n",
    "nota_media_por_filme = avaliacoes.groupby(\"filmeId\")[\"nota\"].mean()\n",
    "filmes_com_media = filmes.join(nota_media_por_filme, on=\"filmeId\")\n",
    "filmes_com_media = filmes_com_media.rename(columns={'nota': 'media'})\n",
    "notas_do_filme_1 = avaliacoes.query(\"filmeId==1\")[\"nota\"]\n",
    "notas_do_filme_2 = avaliacoes.query(\"filmeId==2\")[\"nota\"]"
   ]
  }
 ],
 "metadata": {
  "language_info": {
   "codemirror_mode": {
    "name": "ipython",
    "version": 3
   },
   "file_extension": ".py",
   "mimetype": "text/x-python",
   "name": "python",
   "nbconvert_exporter": "python",
   "pygments_lexer": "ipython3",
   "version": 3
  },
  "orig_nbformat": 2
 },
 "nbformat": 4,
 "nbformat_minor": 2
}