{
 "cells": [
  {
   "cell_type": "code",
   "execution_count": 16,
   "metadata": {},
   "outputs": [
    {
     "output_type": "execute_result",
     "data": {
      "text/plain": "               gross    budget     lucro  title_year\ngross       1.000000  0.645673  0.797037    0.034827\nbudget      0.645673  1.000000  0.053455    0.229453\nlucro       0.797037  0.053455  1.000000   -0.123035\ntitle_year  0.034827  0.229453 -0.123035    1.000000",
      "text/html": "<div>\n<style scoped>\n    .dataframe tbody tr th:only-of-type {\n        vertical-align: middle;\n    }\n\n    .dataframe tbody tr th {\n        vertical-align: top;\n    }\n\n    .dataframe thead th {\n        text-align: right;\n    }\n</style>\n<table border=\"1\" class=\"dataframe\">\n  <thead>\n    <tr style=\"text-align: right;\">\n      <th></th>\n      <th>gross</th>\n      <th>budget</th>\n      <th>lucro</th>\n      <th>title_year</th>\n    </tr>\n  </thead>\n  <tbody>\n    <tr>\n      <th>gross</th>\n      <td>1.000000</td>\n      <td>0.645673</td>\n      <td>0.797037</td>\n      <td>0.034827</td>\n    </tr>\n    <tr>\n      <th>budget</th>\n      <td>0.645673</td>\n      <td>1.000000</td>\n      <td>0.053455</td>\n      <td>0.229453</td>\n    </tr>\n    <tr>\n      <th>lucro</th>\n      <td>0.797037</td>\n      <td>0.053455</td>\n      <td>1.000000</td>\n      <td>-0.123035</td>\n    </tr>\n    <tr>\n      <th>title_year</th>\n      <td>0.034827</td>\n      <td>0.229453</td>\n      <td>-0.123035</td>\n      <td>1.000000</td>\n    </tr>\n  </tbody>\n</table>\n</div>"
     },
     "metadata": {},
     "execution_count": 16
    }
   ],
   "source": [
    "import pandas as pd\n",
    "import matplotlib.pyplot as plt\n",
    "import seaborn as sns\n",
    "imdb = pd.read_csv('/home/cr4zyd0g/Documentos/quarentena_dados/ml-latest-small/movie_metadata.csv')\n",
    "#imdb['color'].unique()\n",
    "#imdb['color'].value_counts(normalize=True)\n",
    "#imdb['director_name'].value_counts()\n",
    "#imdb['director_name'].value_counts().tail(40)\n",
    "#imdb['num_critic_for_reviews'].min()\n",
    "#imdb['num_critic_for_reviews'].describe()\n",
    "#imdb['num_critic_for_reviews'].plot(kind='hist')\n",
    "#imdb['gross'].plot(kind='hist')\n",
    "#sns.distplot(imdb['gross'])\n",
    "#imdb.sort_values('gross', ascending=False).head()\n",
    "#imdb.sort_values('gross', ascending=False).sample(10)\n",
    "color_or_bw = imdb.query(\"color in ['Color', ' Black and White']\")\n",
    "#len(color_or_bw)\n",
    "color_or_bw['color_0_ou_1'] = (color_or_bw['color'] == 'Color') * 1\n",
    "#color_or_bw.head()\n",
    "#color_or_bw['color_0_ou_1'].value_counts()\n",
    "#sns.scatterplot(data=color_or_bw, x='color_0_ou_1', y='gross')\n",
    "#color_or_bw.groupby('color').mean()['gross']\n",
    "#color_or_bw.groupby('color').mean()['imdb_score']\n",
    "#color_or_bw.groupby('color').median()['imdb_score']\n",
    "imdb = imdb.drop_duplicates()\n",
    "imdb_usa = imdb.query(\"country == 'USA'\")\n",
    "# imdb_usa.sort_values(\"budget\", ascending=False).head()\n",
    "# budget_gross = imdb_usa[['budget', 'gross']].dropna().query('budget > 0 | gross > 0')\n",
    "# sns.scatterplot(data=budget_gross, x='budget', y='gross')\n",
    "imdb_usa['lucro'] = imdb_usa['gross'] - imdb_usa['budget']\n",
    "# budget_gross = imdb_usa.query('budget > 0 | gross > 0')[['budget', 'lucro']].dropna()\n",
    "# sns.scatterplot(data=budget_gross, x='budget', y='lucro')\n",
    "# budget_gross = imdb_usa.query('budget > 0 | gross > 0')[['title_year', 'lucro']].dropna()\n",
    "# sns.scatterplot(data=budget_gross, x='title_year', y='lucro')\n",
    "filmes_por_diretor = imdb_usa['director_name'].value_counts()\n",
    "gross_director = imdb_usa[['director_name','gross']].set_index(\"director_name\").join(filmes_por_diretor, on=\"director_name\")\n",
    "gross_director.columns = ['dindin', 'filmes_irmaos']\n",
    "gross_director = gross_director.reset_index()\n",
    "# gross_director.head()\n",
    "# sns.scatterplot(x=\"filmes_irmaos\", y=\"dindin\", data = gross_director)\n",
    "sns.set_style(\"whitegrid\")\n",
    "#sns.pairplot(data = imdb_usa[['gross', 'budget', 'lucro', 'title_year']])\n",
    "imdb_usa[[\"gross\", \"budget\", \"lucro\", \"title_year\"]].corr()"
   ]
  }
 ],
 "metadata": {
  "language_info": {
   "codemirror_mode": {
    "name": "ipython",
    "version": 3
   },
   "file_extension": ".py",
   "mimetype": "text/x-python",
   "name": "python",
   "nbconvert_exporter": "python",
   "pygments_lexer": "ipython3",
   "version": "3.8.2-final"
  },
  "orig_nbformat": 2,
  "kernelspec": {
   "name": "python38264bit5e26619293344efbb478190fb2569005",
   "display_name": "Python 3.8.2 64-bit"
  }
 },
 "nbformat": 4,
 "nbformat_minor": 2
}