{
 "cells": [
  {
   "cell_type": "code",
   "execution_count": 22,
   "metadata": {},
   "outputs": [
    {
     "output_type": "execute_result",
     "data": {
      "text/plain": "0.011570030430133982"
     },
     "metadata": {},
     "execution_count": 22
    }
   ],
   "source": [
    "import pandas as pd\n",
    "from string import ascii_letters\n",
    "import numpy as np\n",
    "import seaborn as sns\n",
    "import matplotlib.pyplot as plt\n",
    "from sklearn.model_selection import train_test_split\n",
    "from sklearn.svm import LinearSVR\n",
    "from sklearn.tree import DecisionTreeRegressor\n",
    "from sklearn.metrics import mean_squared_error\n",
    "\n",
    "pd.options.display.float_format = '{:,.2f}'.format\n",
    "path = \"/home/cr4zyd0g/Documentos/quarentena_dados/ml-latest-small/microdados_enem_2018.csv\"\n",
    "dados = pd.read_csv(path)\n",
    "colunas_de_notas = ['NU_NOTA_CN', 'NU_NOTA_CH', 'NU_NOTA_LC', 'NU_NOTA_MT', 'NU_NOTA_REDACAO']\n",
    "dados_notas = dados[colunas_de_notas].dropna()\n",
    "dados_notas.columns = ['ciencias_naturais', 'ciencias_humanas', 'linguagem_codigo', 'matematica', 'redacao']\n",
    "x_4_notas = dados_notas[['ciencias_naturais', 'ciencias_humanas', 'linguagem_codigo', 'matematica', 'redacao']]\n",
    "#x_4_notas.head()\n",
    "y_adivinhar = dados_notas['linguagem_codigo']\n",
    "#y_adivinhar\n",
    "\n",
    "#machine learning\n",
    "np.random.seed(43267)\n",
    "# f(x) = y\n",
    "x_treino, x_teste, y_treino, y_teste = train_test_split(x_4_notas, y_adivinhar)\n",
    "# print(x_treino.shape)\n",
    "# print(x_teste.shape)\n",
    "# print(y_treino.shape)\n",
    "# print(y_teste.shape)\n",
    "#x_treino.head()\n",
    "modelo = LinearSVR()\n",
    "modelo.fit(x_treino, y_treino)\n",
    "predicoes_notas_linguagem = modelo.predict(x_teste)\n",
    "# print(predicoes_notas_linguagem[:5])\n",
    "# print(y_teste[:5])\n",
    "#plt.figure(figsize=(9,9))\n",
    "#sns.scatterplot(x=y_teste.values, y=predicoes_notas_linguagem)\n",
    "#sns.scatterplot(x=y_teste.values, y=y_teste.values - predicoes_notas_linguagem)\n",
    "\n",
    "#modelo de machine learning basededo em \"árvores\":\n",
    "modelo = DecisionTreeRegressor()\n",
    "modelo.fit(x_treino, y_treino)\n",
    "predicoes_notas_linguagem = modelo.predict(x_teste)\n",
    "#plt.figure(figsize=(9,9))\n",
    "#sns.scatterplot(x=y_teste.values, y=predicoes_notas_linguagem)\n",
    "# sns.scatterplot(x=x_teste['matematica'].values, y=predicoes_notas_linguagem)\n",
    "# sns.scatterplot(x=x_teste['matematica'].values, y=y_teste.values)\n",
    "\n",
    "#Métrica capaz de nos dizer como nosso modelo está indo, aqui vamos usar o erro quadrático médio.\n",
    "mean_squared_error(y_teste, predicoes_notas_linguagem)"
   ]
  }
 ],
 "metadata": {
  "language_info": {
   "codemirror_mode": {
    "name": "ipython",
    "version": 3
   },
   "file_extension": ".py",
   "mimetype": "text/x-python",
   "name": "python",
   "nbconvert_exporter": "python",
   "pygments_lexer": "ipython3",
   "version": "3.8.2-final"
  },
  "orig_nbformat": 2,
  "kernelspec": {
   "name": "python38264bit5e26619293344efbb478190fb2569005",
   "display_name": "Python 3.8.2 64-bit"
  }
 },
 "nbformat": 4,
 "nbformat_minor": 2
}